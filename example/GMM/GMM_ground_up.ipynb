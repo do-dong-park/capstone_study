{
 "cells": [
  {
   "cell_type": "code",
   "execution_count": 2,
   "metadata": {
    "collapsed": true
   },
   "outputs": [],
   "source": [
    "# Core\n",
    "import numpy as np\n",
    "import pandas as pd\n",
    "import seaborn as sns\n",
    "sns.set(style='darkgrid', font_scale=1.4)\n",
    "import matplotlib.pyplot as plt\n",
    "%matplotlib inline\n",
    "from matplotlib import cm\n",
    "from itertools import combinations\n",
    "import math\n",
    "import statistics\n",
    "from scipy import stats\n",
    "from scipy.stats import pearsonr\n",
    "from scipy.stats import shapiro\n",
    "from scipy.stats import chi2\n",
    "from scipy.stats import poisson\n",
    "from scipy.stats import multivariate_normal\n",
    "import time\n",
    "from datetime import datetime\n",
    "import matplotlib.dates as mdates\n",
    "import plotly.express as px\n",
    "from termcolor import colored\n",
    "import warnings\n",
    "warnings.filterwarnings(\"ignore\")\n",
    "\n",
    "# Sklearn\n",
    "from sklearn.decomposition import PCA\n",
    "from sklearn.manifold import TSNE\n",
    "from sklearn.discriminant_analysis import LinearDiscriminantAnalysis as LDA\n",
    "from sklearn.cluster import KMeans\n",
    "from sklearn.model_selection import train_test_split, StratifiedKFold, GridSearchCV, TimeSeriesSplit\n",
    "from sklearn.preprocessing import StandardScaler, RobustScaler, PowerTransformer, OneHotEncoder, LabelEncoder\n",
    "from sklearn.impute import SimpleImputer\n",
    "from sklearn.pipeline import make_pipeline\n",
    "from sklearn.compose import make_column_transformer\n",
    "from sklearn.metrics import confusion_matrix, ConfusionMatrixDisplay, accuracy_score\n",
    "from sklearn.ensemble import RandomForestClassifier\n",
    "from sklearn.linear_model import LinearRegression, Ridge\n",
    "from sklearn.mixture import GaussianMixture, BayesianGaussianMixture\n",
    "\n",
    "# UMAP\n",
    "import umap\n",
    "# import umap.plot"
   ]
  },
  {
   "cell_type": "code",
   "execution_count": 3,
   "outputs": [],
   "source": [
    "class GMM:\n",
    "    def __init__(self, k, max_iter=100, random_state = 0):\n",
    "        self.k = k\n",
    "        self.max_iter = max_iter\n",
    "        self.random_state = random_state\n",
    "\n",
    "    def initialise(self, X):\n",
    "        self.shape = X.shape\n",
    "        self.n, self.d = self.shape\n",
    "\n",
    "        self.pi = np.full(shape=self.k, fill_value=1/self.k)\n",
    "        self.responsibilities = np.full(shape=self.shape, fill_value=1/self.k)\n",
    "\n",
    "        np.random.seed(self.random_state)\n",
    "        random_row = np.random.randint(low=0, high=self.n, size=self.k)\n",
    "        self.mu = [X[row_index,:] for row_index in random_row]\n",
    "        self.sigma = [np.cov(X.T) for _ in range(self.k)]\n",
    "\n",
    "    def E_step(self, X):\n",
    "        # E-Step: update the responsibilities by holding mu and sigma constant\n",
    "        self.responsibilities = self.predict_proba(X)\n",
    "\n",
    "    def M_step(self, X):\n",
    "        # M-Step: update pi, mu and sigma by holding responsibilities constant\n",
    "        self.pi = self.responsibilities.mean(axis=0)\n",
    "        for j in range(self.k):\n",
    "            r_column = self.responsibilities[:,j]\n",
    "            total_responsibility = r_column.sum()\n",
    "            self.mu[j] = (X * r_column[:, np.newaxis]).sum(axis=0)/total_responsibility\n",
    "            self.sigma[j] = np.cov(X.T, aweights=(r_column/total_responsibility).flatten(), bias=True)\n",
    "\n",
    "    def fit(self, X):\n",
    "        self.initialise(X)\n",
    "\n",
    "        for iteration in range(self.max_iter):\n",
    "            self.E_step(X)\n",
    "            self.M_step(X)\n",
    "\n",
    "    def predict_proba(self, X):\n",
    "        likelihood = np.zeros((self.n, self.k))\n",
    "        for j in range(self.k):\n",
    "            distribution = multivariate_normal(mean=self.mu[j], cov=self.sigma[j])\n",
    "            likelihood[:,j] = distribution.pdf(X)\n",
    "\n",
    "        numerator = likelihood * self.pi\n",
    "        denominator = numerator.sum(axis=1)[:, np.newaxis]\n",
    "        responsibilities = numerator / denominator\n",
    "        return responsibilities\n",
    "\n",
    "    def predict(self, X):\n",
    "        responsibilities = self.predict_proba(X)\n",
    "        return np.argmax(responsibilities, axis=1)\n",
    "\n",
    "    def fit_predict(self, X):\n",
    "        self.fit(X)\n",
    "        predictions = self.predict(X)\n",
    "        return predictions"
   ],
   "metadata": {
    "collapsed": false
   }
  },
  {
   "cell_type": "code",
   "execution_count": 5,
   "outputs": [],
   "source": [
    "from sklearn.datasets import load_iris\n",
    "\n",
    "# Declare GaussianMixture Model\n",
    "X = load_iris().data\n",
    "gmm = GMM(k=7, max_iter=100)\n",
    "preds = gmm.fit_predict(X)"
   ],
   "metadata": {
    "collapsed": false
   }
  },
  {
   "cell_type": "code",
   "execution_count": 6,
   "outputs": [
    {
     "data": {
      "text/plain": "Text(0.5, 1.0, 'Predicted clusters')"
     },
     "execution_count": 6,
     "metadata": {},
     "output_type": "execute_result"
    },
    {
     "data": {
      "text/plain": "<Figure size 1000x400 with 1 Axes>",
      "image/png": "[encoded data removed]"
     },
     "metadata": {},
     "output_type": "display_data"
    }
   ],
   "source": [
    "# Countplot\n",
    "plt.figure(figsize=(10,4))\n",
    "sns.countplot(x=preds)\n",
    "plt.title('Predicted clusters')"
   ],
   "metadata": {
    "collapsed": false
   }
  },
  {
   "cell_type": "code",
   "execution_count": null,
   "outputs": [],
   "source": [],
   "metadata": {
    "collapsed": false
   }
  }
 ],
 "metadata": {
  "kernelspec": {
   "display_name": "Python 3",
   "language": "python",
   "name": "python3"
  },
  "language_info": {
   "codemirror_mode": {
    "name": "ipython",
    "version": 2
   },
   "file_extension": ".py",
   "mimetype": "text/x-python",
   "name": "python",
   "nbconvert_exporter": "python",
   "pygments_lexer": "ipython2",
   "version": "2.7.6"
  }
 },
 "nbformat": 4,
 "nbformat_minor": 0
}
